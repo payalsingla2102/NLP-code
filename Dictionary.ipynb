{
  "cells": [
    {
      "cell_type": "markdown",
      "source": [
        "# **DICTIONARY**"
      ],
      "metadata": {
        "id": "TX_ew8GECr4A"
      }
    },
    {
      "cell_type": "markdown",
      "source": [
        "in this Python Notebook we explore whether a string is a part of the dictionary or not\n",
        "\n",
        "as we know the Dictionary has a format of (key, value pair). We take advantage of this and create a dictionary. After that we check whther the string is a part of the dictionary or not.\n",
        "\n",
        "---\n",
        "\n"
      ],
      "metadata": {
        "id": "wW9W84kBCvV1"
      }
    },
    {
      "cell_type": "markdown",
      "source": [
        "CREATING THE DICTIONARY"
      ],
      "metadata": {
        "id": "08qqV0xmDQqO"
      }
    },
    {
      "cell_type": "code",
      "source": [
        "# empty dictionary\n",
        "my_dict = {}\n",
        "\n",
        "# dictionary (Country ,captial) as the (key, value)\n",
        "my_dict = dict ({'India': 'Delhi', 'United States': 'Washington'})\n",
        "print(\"---COUNTRY: CAPITAL DICTIONARY---\\n\")\n",
        "print(my_dict)\n",
        "\n",
        "\n",
        "\n",
        "\n",
        "\n"
      ],
      "metadata": {
        "id": "yg9l3HVGDU2K",
        "outputId": "2c498170-057e-42f1-dbb4-99e541120b55",
        "colab": {
          "base_uri": "https://localhost:8080/"
        }
      },
      "execution_count": 7,
      "outputs": [
        {
          "output_type": "stream",
          "name": "stdout",
          "text": [
            "---COUNTRY: CAPITAL DICTIONARY---\n",
            "\n",
            "{'India': 'Delhi', 'United States': 'Washington'}\n"
          ]
        }
      ]
    },
    {
      "cell_type": "code",
      "source": [
        "# function to check if the key is present or not\n",
        "def check_key(dic, key):\n",
        "  if key in dic:\n",
        "    print(\"present, \", end= \"\")\n",
        "    print(\"Value is :\", dic[key])\n",
        "  else:\n",
        "    print(\"Key not present\")\n"
      ],
      "metadata": {
        "id": "EEu3bRTJKmKO"
      },
      "execution_count": 8,
      "outputs": []
    },
    {
      "cell_type": "code",
      "source": [
        "# implementing the above function\n",
        "\n",
        "string = input(\"Enter the key to check: \")\n",
        "check_key(my_dict,string)"
      ],
      "metadata": {
        "id": "AEzlFmTPLOUp",
        "outputId": "386317f6-8c96-4b52-f90d-6f28be81dd32",
        "colab": {
          "base_uri": "https://localhost:8080/"
        }
      },
      "execution_count": 9,
      "outputs": [
        {
          "output_type": "stream",
          "name": "stdout",
          "text": [
            "Enter the key to check: India\n",
            "present, Value is : Delhi\n"
          ]
        }
      ]
    }
  ],
  "metadata": {
    "colab": {
      "name": "Welcome to Colaboratory",
      "provenance": []
    },
    "kernelspec": {
      "display_name": "Python 3",
      "name": "python3"
    }
  },
  "nbformat": 4,
  "nbformat_minor": 0
}