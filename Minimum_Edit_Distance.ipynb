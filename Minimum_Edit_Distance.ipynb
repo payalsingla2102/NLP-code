{
  "nbformat": 4,
  "nbformat_minor": 0,
  "metadata": {
    "colab": {
      "provenance": []
    },
    "kernelspec": {
      "name": "python3",
      "display_name": "Python 3"
    },
    "language_info": {
      "name": "python"
    }
  },
  "cells": [
    {
      "cell_type": "markdown",
      "source": [
        "# **MINIMUM EDIT DISTANCE**"
      ],
      "metadata": {
        "id": "FAfinluD5TKQ"
      }
    },
    {
      "cell_type": "markdown",
      "source": [
        "### **Using Recursion**"
      ],
      "metadata": {
        "id": "WivIqk5j5iQm"
      }
    },
    {
      "cell_type": "code",
      "source": [
        "# Below are the costs of different operations.\n",
        "ins_cost = 1\n",
        "del_cost = 1\n",
        "sub_cost = 2\n",
        "# Below function will take the two sequence and will return the distance between them.\n",
        "def edit_distance_recurse(seq1, seq2, operations=[]):\n",
        "    \"\"\"Returns the Edit Distance between the provided two sequences.\"\"\"\n",
        "    \n",
        "    if len(seq2) == 0:\n",
        "        operations = operations + ([f\"Delete `{seq1}` from sequence1.\"] if len(seq1) else [])\n",
        "        return len(seq1), operations\n",
        "    \n",
        "    if len(seq1) == 0:\n",
        "        operations = operations + ([f\"Insert `{seq2}` into sequence1.\"] if len(seq2) else [])\n",
        "        return len(seq2), operations\n",
        "    \n",
        "    if seq1[0] == seq2[0]:\n",
        "        operations = operations + [f\"Make no change for character `{seq1[0]}`.\"]\n",
        "        return edit_distance_recurse(seq1[1: ], seq2[1: ], operations)\n",
        "    \n",
        "    # calculate cost if insertion was made\n",
        "    ins_operations = operations + [f\"Insert `{seq2[0]}` in sequence1.\"]\n",
        "    insertion, ins_operations = edit_distance_recurse(seq1, seq2[1: ], ins_operations)\n",
        "    \n",
        "    # calculate cost if deletion was done\n",
        "    del_operations = operations + [f\"Delete `{seq1[0]}` from sequence1.\"]\n",
        "    deletion, del_operations = edit_distance_recurse(seq1[1: ], seq2, del_operations)\n",
        "    \n",
        "    # calculate cost if substitution was done\n",
        "    sub_operations = operations + [f\"Replace `{seq1[0]}` in sequence1 with `{seq2[0]}`.\"]\n",
        "    substitution, sub_operations = edit_distance_recurse(seq1[1: ], seq2[1: ], sub_operations)\n",
        "    \n",
        "    # calculate minimum cost\n",
        "    min_cost = min(insertion + ins_cost, deletion + del_cost, substitution + sub_cost)\n",
        "    \n",
        "    if min_cost == (substitution + sub_cost):\n",
        "        return min_cost, sub_operations\n",
        "    elif min_cost == deletion + del_cost:\n",
        "        return min_cost, del_operations\n",
        "    else:\n",
        "        return min_cost, ins_operations"
      ],
      "metadata": {
        "id": "tYqnTmU5MZ7M"
      },
      "execution_count": null,
      "outputs": []
    },
    {
      "cell_type": "code",
      "source": [
        "seq1 = input('enter string 1:')\n",
        "seq2 = input('enter string 2:')\n",
        "score, operations = edit_distance_recurse(seq1, seq2)\n",
        "print(f\"Edit Distance between `{seq1}` & `{seq2}` is: {score}\")\n",
        "print(\"\\nOperations performed are:\\n\")\n",
        "for operation in operations:\n",
        "    print(operation)"
      ],
      "metadata": {
        "colab": {
          "base_uri": "https://localhost:8080/"
        },
        "id": "FYaLgWVmMdjm",
        "outputId": "c46b3bcd-a405-43c7-fee1-55a355232af6"
      },
      "execution_count": null,
      "outputs": [
        {
          "output_type": "stream",
          "name": "stdout",
          "text": [
            "enter string 1:payal\n",
            "enter string 2:piyali\n",
            "Edit Distance between `payal` & `piyali` is: 3\n",
            "\n",
            "Operations performed are:\n",
            "\n",
            "Make no change for character `p`.\n",
            "Replace `a` in sequence1 with `i`.\n",
            "Make no change for character `y`.\n",
            "Make no change for character `a`.\n",
            "Make no change for character `l`.\n",
            "Insert `i` into sequence1.\n"
          ]
        }
      ]
    }
  ]
}