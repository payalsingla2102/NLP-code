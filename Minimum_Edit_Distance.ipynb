{
  "nbformat": 4,
  "nbformat_minor": 0,
  "metadata": {
    "colab": {
      "provenance": []
    },
    "kernelspec": {
      "name": "python3",
      "display_name": "Python 3"
    },
    "language_info": {
      "name": "python"
    }
  },
  "cells": [
    {
      "cell_type": "markdown",
      "source": [
        "# **MINIMUM EDIT DISTANCE**"
      ],
      "metadata": {
        "id": "FAfinluD5TKQ"
      }
    },
    {
      "cell_type": "markdown",
      "source": [
        "### **Using Recursion**"
      ],
      "metadata": {
        "id": "WivIqk5j5iQm"
      }
    },
    {
      "cell_type": "code",
      "source": [
        "# Below are the costs of different operations.\n",
        "ins_cost = 1\n",
        "del_cost = 1\n",
        "sub_cost = 2\n",
        "# Below function will take the two sequence and will return the distance between them.\n",
        "def edit_distance_recurse(seq1, seq2, operations=[]):\n",
        "    \"\"\"Returns the Edit Distance between the provided two sequences.\"\"\"\n",
        "    \n",
        "    if len(seq2) == 0:\n",
        "        operations = operations + ([f\"Delete `{seq1}` from sequence1.\"] if len(seq1) else [])\n",
        "        return len(seq1), operations\n",
        "    \n",
        "    if len(seq1) == 0:\n",
        "        operations = operations + ([f\"Insert `{seq2}` into sequence1.\"] if len(seq2) else [])\n",
        "        return len(seq2), operations\n",
        "    \n",
        "    if seq1[0] == seq2[0]:\n",
        "        operations = operations + [f\"Make no change for character `{seq1[0]}`.\"]\n",
        "        return edit_distance_recurse(seq1[1: ], seq2[1: ], operations)\n",
        "    \n",
        "    # calculate cost if insertion was made\n",
        "    ins_operations = operations + [f\"Insert `{seq2[0]}` in sequence1.\"]\n",
        "    insertion, ins_operations = edit_distance_recurse(seq1, seq2[1: ], ins_operations)\n",
        "    \n",
        "    # calculate cost if deletion was done\n",
        "    del_operations = operations + [f\"Delete `{seq1[0]}` from sequence1.\"]\n",
        "    deletion, del_operations = edit_distance_recurse(seq1[1: ], seq2, del_operations)\n",
        "    \n",
        "    # calculate cost if substitution was done\n",
        "    sub_operations = operations + [f\"Replace `{seq1[0]}` in sequence1 with `{seq2[0]}`.\"]\n",
        "    substitution, sub_operations = edit_distance_recurse(seq1[1: ], seq2[1: ], sub_operations)\n",
        "    \n",
        "    # calculate minimum cost\n",
        "    min_cost = min(insertion + ins_cost, deletion + del_cost, substitution + sub_cost)\n",
        "    \n",
        "    if min_cost == (substitution + sub_cost):\n",
        "        return min_cost, sub_operations\n",
        "    elif min_cost == deletion + del_cost:\n",
        "        return min_cost, del_operations\n",
        "    else:\n",
        "        return min_cost, ins_operations"
      ],
      "metadata": {
        "id": "tYqnTmU5MZ7M"
      },
      "execution_count": null,
      "outputs": []
    },
    {
      "cell_type": "code",
      "source": [
        "seq1 = input('enter string 1:')\n",
        "seq2 = input('enter string 2:')\n",
        "score, operations = edit_distance_recurse(seq1, seq2)\n",
        "print(f\"Edit Distance between `{seq1}` & `{seq2}` is: {score}\")\n",
        "print(\"\\nOperations performed are:\\n\")\n",
        "for operation in operations:\n",
        "    print(operation)"
      ],
      "metadata": {
        "colab": {
          "base_uri": "https://localhost:8080/"
        },
        "id": "FYaLgWVmMdjm",
        "outputId": "c46b3bcd-a405-43c7-fee1-55a355232af6"
      },
      "execution_count": null,
      "outputs": [
        {
          "output_type": "stream",
          "name": "stdout",
          "text": [
            "enter string 1:payal\n",
            "enter string 2:piyali\n",
            "Edit Distance between `payal` & `piyali` is: 3\n",
            "\n",
            "Operations performed are:\n",
            "\n",
            "Make no change for character `p`.\n",
            "Replace `a` in sequence1 with `i`.\n",
            "Make no change for character `y`.\n",
            "Make no change for character `a`.\n",
            "Make no change for character `l`.\n",
            "Insert `i` into sequence1.\n"
          ]
        }
      ]
    },
    {
      "cell_type": "markdown",
      "source": [
        "## **Using dyanamic Programming**"
      ],
      "metadata": {
        "id": "4NUVk6O-VKzx"
      }
    },
    {
      "cell_type": "markdown",
      "source": [
        "across the rows we have sequence1 which we want to convert into sequence2 (which is across the columns) with minimum conversion cost.\n",
        "\n",
        "---\n",
        "\n"
      ],
      "metadata": {
        "id": "QOq0cwIfVipF"
      }
    },
    {
      "cell_type": "code",
      "source": [
        "def min_cost_path(cost, operations):\n",
        "    \n",
        "    # operation at the last cell\n",
        "    path = [operations[cost.shape[0]-1][cost.shape[1]-1]]\n",
        "    \n",
        "    # cost at the last cell\n",
        "    min_cost = cost[cost.shape[0]-1][cost.shape[1]-1]\n",
        "    \n",
        "    row = cost.shape[0]-1\n",
        "    col = cost.shape[1]-1\n",
        "    \n",
        "    while row >0 and col > 0:\n",
        "            \n",
        "        if cost[row-1][col-1] <= cost[row-1][col] and cost[row-1][col-1] <= cost[row][col-1]:\n",
        "            path.append(operations[row-1][col-1])\n",
        "            row -= 1\n",
        "            col -= 1\n",
        "        elif cost[row-1][col] <= cost[row-1][col-1] and cost[row-1][col] <= cost[row][col-1]:\n",
        "            path.append(operations[row-1][col])\n",
        "            row -= 1\n",
        "        else:\n",
        "            path.append(operations[row][col-1])\n",
        "            col -= 1\n",
        "                    \n",
        "    return \"\".join(path[::-1][1:])"
      ],
      "metadata": {
        "id": "3u-yl7Q-VP_T"
      },
      "execution_count": null,
      "outputs": []
    },
    {
      "cell_type": "code",
      "source": [
        "def edit_distance_dp(seq1, seq2):\n",
        "    \n",
        "    # create an empty 2D matrix to store cost\n",
        "    cost = np.zeros((len(seq1)+1, len(seq2)+1))\n",
        "    \n",
        "    # fill the first row\n",
        "    cost[0] = [i for i in range(len(seq2)+1)]\n",
        "    \n",
        "    # fill the first column\n",
        "    cost[:, 0] = [i for i in range(len(seq1)+1)]\n",
        "    \n",
        "    # to store the operations made\n",
        "    operations = np.asarray([['-' for j in range(len(seq2)+1)] \\\n",
        "                                 for i in range(len(seq1)+1)])\n",
        "    \n",
        "    # fill the first row by insertion \n",
        "    operations[0] = ['I' for i in range(len(seq2)+1)]\n",
        "    \n",
        "    # fill the first column by insertion operation (D)\n",
        "    operations[:, 0] = ['D' for i in range(len(seq1)+1)]\n",
        "    \n",
        "    operations[0, 0] = '-'\n",
        "    \n",
        "    # now, iterate over earch row and column\n",
        "    for row in range(1, len(seq1)+1):\n",
        "        \n",
        "        for col in range(1, len(seq2)+1):\n",
        "            \n",
        "            # if both the characters are same then the cost will be same as \n",
        "            # the cost of the previous sub-sequence\n",
        "            if seq1[row-1] == seq2[col-1]:\n",
        "                cost[row][col] = cost[row-1][col-1]\n",
        "            else:\n",
        "                \n",
        "                insertion_cost = cost[row][col-1] + ins_cost\n",
        "                deletion_cost = cost[row-1][col] + del_cost\n",
        "                substitution_cost = cost[row-1][col-1] + sub_cost\n",
        "                \n",
        "                # calculate the minimum cost\n",
        "                cost[row][col] = min(insertion_cost, deletion_cost, substitution_cost)\n",
        "                \n",
        "                # get the operation\n",
        "                if cost[row][col] == substitution_cost:\n",
        "                    operations[row][col] = 'S'\n",
        "                    \n",
        "                elif cost[row][col] == ins_cost:\n",
        "                    operations[row][col] = 'I'\n",
        "                else:\n",
        "                    operations[row][col] = 'D'\n",
        "                \n",
        "    return cost[len(seq1), len(seq2)], min_cost_path(cost, operations)"
      ],
      "metadata": {
        "id": "pJt_cFsFVr_v"
      },
      "execution_count": null,
      "outputs": []
    },
    {
      "cell_type": "code",
      "source": [
        "seq1 = input('sequence 1:')\n",
        "seq2 = input('sequence 2:')\n",
        "score, operations = edit_distance_dp(seq1, seq2)\n",
        "print(f\"Edit Distance between `{seq1}` & `{seq2}` is: {score}\")\n",
        "print(\"\\nOperations performed are:\\n\")\n",
        "for operation in operations:\n",
        "    if operation == '-':\n",
        "        print('No Change.')\n",
        "    elif operation == 'I':\n",
        "        print('Insertion')\n",
        "    elif operation == 'D':\n",
        "        print('Deletion')\n",
        "    else:\n",
        "        print('Substitution')"
      ],
      "metadata": {
        "colab": {
          "base_uri": "https://localhost:8080/"
        },
        "id": "GQsLlT4_VxlP",
        "outputId": "9445bc5b-3d96-4609-b809-8cdc467f6f7c"
      },
      "execution_count": null,
      "outputs": [
        {
          "output_type": "stream",
          "name": "stdout",
          "text": [
            "sequence 1:payal\n",
            "sequence 2:piyali\n",
            "Edit Distance between `payal` & `piyali` is: 3.0\n",
            "\n",
            "Operations performed are:\n",
            "\n",
            "No Change.\n",
            "Substitution\n",
            "No Change.\n",
            "No Change.\n",
            "No Change.\n",
            "Deletion\n"
          ]
        }
      ]
    }
  ]
}